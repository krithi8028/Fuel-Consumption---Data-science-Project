{
 "cells": [
  {
   "cell_type": "code",
   "execution_count": 1,
   "id": "4c3bcd8b",
   "metadata": {},
   "outputs": [],
   "source": [
    "import pandas as pd\n",
    "import numpy as np\n",
    "import matplotlib.pyplot as plt\n"
   ]
  },
  {
   "cell_type": "code",
   "execution_count": 2,
   "id": "737505b8",
   "metadata": {},
   "outputs": [],
   "source": [
    "data = pd.read_csv(\"FuelConsumption .csv\")"
   ]
  },
  {
   "cell_type": "code",
   "execution_count": 5,
   "id": "cd3d5c25",
   "metadata": {},
   "outputs": [
    {
     "data": {
      "text/html": [
       "<div>\n",
       "<style scoped>\n",
       "    .dataframe tbody tr th:only-of-type {\n",
       "        vertical-align: middle;\n",
       "    }\n",
       "\n",
       "    .dataframe tbody tr th {\n",
       "        vertical-align: top;\n",
       "    }\n",
       "\n",
       "    .dataframe thead th {\n",
       "        text-align: right;\n",
       "    }\n",
       "</style>\n",
       "<table border=\"1\" class=\"dataframe\">\n",
       "  <thead>\n",
       "    <tr style=\"text-align: right;\">\n",
       "      <th></th>\n",
       "      <th>Year</th>\n",
       "      <th>MAKE</th>\n",
       "      <th>MODEL</th>\n",
       "      <th>VEHICLE CLASS</th>\n",
       "      <th>ENGINE SIZE</th>\n",
       "      <th>CYLINDERS</th>\n",
       "      <th>TRANSMISSION</th>\n",
       "      <th>FUEL</th>\n",
       "      <th>FUEL CONSUMPTION</th>\n",
       "      <th>COEMISSIONS</th>\n",
       "    </tr>\n",
       "  </thead>\n",
       "  <tbody>\n",
       "    <tr>\n",
       "      <th>0</th>\n",
       "      <td>2000</td>\n",
       "      <td>ACURA</td>\n",
       "      <td>1.6EL</td>\n",
       "      <td>COMPACT</td>\n",
       "      <td>1.6</td>\n",
       "      <td>4</td>\n",
       "      <td>A4</td>\n",
       "      <td>X</td>\n",
       "      <td>10.5</td>\n",
       "      <td>216</td>\n",
       "    </tr>\n",
       "    <tr>\n",
       "      <th>1</th>\n",
       "      <td>2000</td>\n",
       "      <td>ACURA</td>\n",
       "      <td>1.6EL</td>\n",
       "      <td>COMPACT</td>\n",
       "      <td>1.6</td>\n",
       "      <td>4</td>\n",
       "      <td>M5</td>\n",
       "      <td>X</td>\n",
       "      <td>9.8</td>\n",
       "      <td>205</td>\n",
       "    </tr>\n",
       "    <tr>\n",
       "      <th>2</th>\n",
       "      <td>2000</td>\n",
       "      <td>ACURA</td>\n",
       "      <td>3.2TL</td>\n",
       "      <td>MID-SIZE</td>\n",
       "      <td>3.2</td>\n",
       "      <td>6</td>\n",
       "      <td>AS5</td>\n",
       "      <td>Z</td>\n",
       "      <td>13.7</td>\n",
       "      <td>265</td>\n",
       "    </tr>\n",
       "    <tr>\n",
       "      <th>3</th>\n",
       "      <td>2000</td>\n",
       "      <td>ACURA</td>\n",
       "      <td>3.5RL</td>\n",
       "      <td>MID-SIZE</td>\n",
       "      <td>3.5</td>\n",
       "      <td>6</td>\n",
       "      <td>A4</td>\n",
       "      <td>Z</td>\n",
       "      <td>15.0</td>\n",
       "      <td>301</td>\n",
       "    </tr>\n",
       "    <tr>\n",
       "      <th>4</th>\n",
       "      <td>2000</td>\n",
       "      <td>ACURA</td>\n",
       "      <td>INTEGRA</td>\n",
       "      <td>SUBCOMPACT</td>\n",
       "      <td>1.8</td>\n",
       "      <td>4</td>\n",
       "      <td>A4</td>\n",
       "      <td>X</td>\n",
       "      <td>11.4</td>\n",
       "      <td>230</td>\n",
       "    </tr>\n",
       "    <tr>\n",
       "      <th>5</th>\n",
       "      <td>2000</td>\n",
       "      <td>ACURA</td>\n",
       "      <td>INTEGRA</td>\n",
       "      <td>SUBCOMPACT</td>\n",
       "      <td>1.8</td>\n",
       "      <td>4</td>\n",
       "      <td>M5</td>\n",
       "      <td>X</td>\n",
       "      <td>10.6</td>\n",
       "      <td>219</td>\n",
       "    </tr>\n",
       "    <tr>\n",
       "      <th>6</th>\n",
       "      <td>2000</td>\n",
       "      <td>ACURA</td>\n",
       "      <td>INTEGRA GSR/TYPE R</td>\n",
       "      <td>SUBCOMPACT</td>\n",
       "      <td>1.8</td>\n",
       "      <td>4</td>\n",
       "      <td>M5</td>\n",
       "      <td>Z</td>\n",
       "      <td>10.8</td>\n",
       "      <td>223</td>\n",
       "    </tr>\n",
       "    <tr>\n",
       "      <th>7</th>\n",
       "      <td>2000</td>\n",
       "      <td>ACURA</td>\n",
       "      <td>NSX</td>\n",
       "      <td>SUBCOMPACT</td>\n",
       "      <td>3.0</td>\n",
       "      <td>6</td>\n",
       "      <td>AS4</td>\n",
       "      <td>Z</td>\n",
       "      <td>15.2</td>\n",
       "      <td>306</td>\n",
       "    </tr>\n",
       "    <tr>\n",
       "      <th>8</th>\n",
       "      <td>2000</td>\n",
       "      <td>ACURA</td>\n",
       "      <td>NSX</td>\n",
       "      <td>SUBCOMPACT</td>\n",
       "      <td>3.2</td>\n",
       "      <td>6</td>\n",
       "      <td>M6</td>\n",
       "      <td>Z</td>\n",
       "      <td>15.4</td>\n",
       "      <td>306</td>\n",
       "    </tr>\n",
       "    <tr>\n",
       "      <th>9</th>\n",
       "      <td>2000</td>\n",
       "      <td>AUDI</td>\n",
       "      <td>A4</td>\n",
       "      <td>COMPACT</td>\n",
       "      <td>1.8</td>\n",
       "      <td>4</td>\n",
       "      <td>A5</td>\n",
       "      <td>Z</td>\n",
       "      <td>12.9</td>\n",
       "      <td>251</td>\n",
       "    </tr>\n",
       "  </tbody>\n",
       "</table>\n",
       "</div>"
      ],
      "text/plain": [
       "   Year   MAKE               MODEL VEHICLE CLASS  ENGINE SIZE  CYLINDERS  \\\n",
       "0  2000  ACURA               1.6EL       COMPACT          1.6          4   \n",
       "1  2000  ACURA               1.6EL       COMPACT          1.6          4   \n",
       "2  2000  ACURA               3.2TL      MID-SIZE          3.2          6   \n",
       "3  2000  ACURA               3.5RL      MID-SIZE          3.5          6   \n",
       "4  2000  ACURA             INTEGRA    SUBCOMPACT          1.8          4   \n",
       "5  2000  ACURA             INTEGRA    SUBCOMPACT          1.8          4   \n",
       "6  2000  ACURA  INTEGRA GSR/TYPE R    SUBCOMPACT          1.8          4   \n",
       "7  2000  ACURA                 NSX    SUBCOMPACT          3.0          6   \n",
       "8  2000  ACURA                 NSX    SUBCOMPACT          3.2          6   \n",
       "9  2000   AUDI                  A4       COMPACT          1.8          4   \n",
       "\n",
       "  TRANSMISSION FUEL  FUEL CONSUMPTION  COEMISSIONS   \n",
       "0           A4    X              10.5           216  \n",
       "1           M5    X               9.8           205  \n",
       "2          AS5    Z              13.7           265  \n",
       "3           A4    Z              15.0           301  \n",
       "4           A4    X              11.4           230  \n",
       "5           M5    X              10.6           219  \n",
       "6           M5    Z              10.8           223  \n",
       "7          AS4    Z              15.2           306  \n",
       "8           M6    Z              15.4           306  \n",
       "9           A5    Z              12.9           251  "
      ]
     },
     "execution_count": 5,
     "metadata": {},
     "output_type": "execute_result"
    }
   ],
   "source": [
    "data.head(10)"
   ]
  },
  {
   "cell_type": "code",
   "execution_count": 10,
   "id": "9dfc4f11",
   "metadata": {},
   "outputs": [
    {
     "data": {
      "text/plain": [
       "36"
      ]
     },
     "execution_count": 10,
     "metadata": {},
     "output_type": "execute_result"
    }
   ],
   "source": [
    "data['MAKE'].nunique()"
   ]
  },
  {
   "cell_type": "code",
   "execution_count": 11,
   "id": "6ed285a8",
   "metadata": {},
   "outputs": [
    {
     "data": {
      "text/plain": [
       "328"
      ]
     },
     "execution_count": 11,
     "metadata": {},
     "output_type": "execute_result"
    }
   ],
   "source": [
    "data['MODEL'].nunique()"
   ]
  },
  {
   "cell_type": "code",
   "execution_count": 12,
   "id": "75bb49a9",
   "metadata": {},
   "outputs": [
    {
     "data": {
      "text/plain": [
       "8"
      ]
     },
     "execution_count": 12,
     "metadata": {},
     "output_type": "execute_result"
    }
   ],
   "source": [
    "data['TRANSMISSION'].nunique()"
   ]
  },
  {
   "cell_type": "code",
   "execution_count": 14,
   "id": "513a9671",
   "metadata": {},
   "outputs": [
    {
     "data": {
      "text/plain": [
       "(639, 10)"
      ]
     },
     "execution_count": 14,
     "metadata": {},
     "output_type": "execute_result"
    }
   ],
   "source": [
    "data.shape"
   ]
  },
  {
   "cell_type": "code",
   "execution_count": 15,
   "id": "cbcb724f",
   "metadata": {},
   "outputs": [
    {
     "name": "stdout",
     "output_type": "stream",
     "text": [
      "<class 'pandas.core.frame.DataFrame'>\n",
      "RangeIndex: 639 entries, 0 to 638\n",
      "Data columns (total 10 columns):\n",
      " #   Column            Non-Null Count  Dtype  \n",
      "---  ------            --------------  -----  \n",
      " 0   Year              639 non-null    int64  \n",
      " 1   MAKE              639 non-null    object \n",
      " 2   MODEL             639 non-null    object \n",
      " 3   VEHICLE CLASS     639 non-null    object \n",
      " 4   ENGINE SIZE       639 non-null    float64\n",
      " 5   CYLINDERS         639 non-null    int64  \n",
      " 6   TRANSMISSION      639 non-null    object \n",
      " 7   FUEL              639 non-null    object \n",
      " 8   FUEL CONSUMPTION  639 non-null    float64\n",
      " 9   COEMISSIONS       639 non-null    int64  \n",
      "dtypes: float64(2), int64(3), object(5)\n",
      "memory usage: 50.1+ KB\n"
     ]
    }
   ],
   "source": [
    "data.info()"
   ]
  },
  {
   "cell_type": "code",
   "execution_count": 16,
   "id": "dd192de5",
   "metadata": {},
   "outputs": [
    {
     "data": {
      "text/html": [
       "<div>\n",
       "<style scoped>\n",
       "    .dataframe tbody tr th:only-of-type {\n",
       "        vertical-align: middle;\n",
       "    }\n",
       "\n",
       "    .dataframe tbody tr th {\n",
       "        vertical-align: top;\n",
       "    }\n",
       "\n",
       "    .dataframe thead th {\n",
       "        text-align: right;\n",
       "    }\n",
       "</style>\n",
       "<table border=\"1\" class=\"dataframe\">\n",
       "  <thead>\n",
       "    <tr style=\"text-align: right;\">\n",
       "      <th></th>\n",
       "      <th>Year</th>\n",
       "      <th>ENGINE SIZE</th>\n",
       "      <th>CYLINDERS</th>\n",
       "      <th>FUEL CONSUMPTION</th>\n",
       "      <th>COEMISSIONS</th>\n",
       "    </tr>\n",
       "  </thead>\n",
       "  <tbody>\n",
       "    <tr>\n",
       "      <th>count</th>\n",
       "      <td>639.0</td>\n",
       "      <td>639.000000</td>\n",
       "      <td>639.000000</td>\n",
       "      <td>639.000000</td>\n",
       "      <td>639.000000</td>\n",
       "    </tr>\n",
       "    <tr>\n",
       "      <th>mean</th>\n",
       "      <td>2000.0</td>\n",
       "      <td>3.265728</td>\n",
       "      <td>5.805947</td>\n",
       "      <td>14.713615</td>\n",
       "      <td>296.809077</td>\n",
       "    </tr>\n",
       "    <tr>\n",
       "      <th>std</th>\n",
       "      <td>0.0</td>\n",
       "      <td>1.231012</td>\n",
       "      <td>1.625588</td>\n",
       "      <td>3.307044</td>\n",
       "      <td>65.504178</td>\n",
       "    </tr>\n",
       "    <tr>\n",
       "      <th>min</th>\n",
       "      <td>2000.0</td>\n",
       "      <td>1.000000</td>\n",
       "      <td>3.000000</td>\n",
       "      <td>4.900000</td>\n",
       "      <td>104.000000</td>\n",
       "    </tr>\n",
       "    <tr>\n",
       "      <th>25%</th>\n",
       "      <td>2000.0</td>\n",
       "      <td>2.200000</td>\n",
       "      <td>4.000000</td>\n",
       "      <td>12.500000</td>\n",
       "      <td>253.000000</td>\n",
       "    </tr>\n",
       "    <tr>\n",
       "      <th>50%</th>\n",
       "      <td>2000.0</td>\n",
       "      <td>3.000000</td>\n",
       "      <td>6.000000</td>\n",
       "      <td>14.400000</td>\n",
       "      <td>288.000000</td>\n",
       "    </tr>\n",
       "    <tr>\n",
       "      <th>75%</th>\n",
       "      <td>2000.0</td>\n",
       "      <td>4.300000</td>\n",
       "      <td>6.000000</td>\n",
       "      <td>16.600000</td>\n",
       "      <td>343.000000</td>\n",
       "    </tr>\n",
       "    <tr>\n",
       "      <th>max</th>\n",
       "      <td>2000.0</td>\n",
       "      <td>8.000000</td>\n",
       "      <td>12.000000</td>\n",
       "      <td>30.200000</td>\n",
       "      <td>582.000000</td>\n",
       "    </tr>\n",
       "  </tbody>\n",
       "</table>\n",
       "</div>"
      ],
      "text/plain": [
       "         Year  ENGINE SIZE   CYLINDERS  FUEL CONSUMPTION  COEMISSIONS \n",
       "count   639.0   639.000000  639.000000        639.000000    639.000000\n",
       "mean   2000.0     3.265728    5.805947         14.713615    296.809077\n",
       "std       0.0     1.231012    1.625588          3.307044     65.504178\n",
       "min    2000.0     1.000000    3.000000          4.900000    104.000000\n",
       "25%    2000.0     2.200000    4.000000         12.500000    253.000000\n",
       "50%    2000.0     3.000000    6.000000         14.400000    288.000000\n",
       "75%    2000.0     4.300000    6.000000         16.600000    343.000000\n",
       "max    2000.0     8.000000   12.000000         30.200000    582.000000"
      ]
     },
     "execution_count": 16,
     "metadata": {},
     "output_type": "execute_result"
    }
   ],
   "source": [
    "data.describe()"
   ]
  },
  {
   "cell_type": "code",
   "execution_count": 17,
   "id": "a9c5615b",
   "metadata": {},
   "outputs": [
    {
     "data": {
      "text/plain": [
       "Index(['Year', 'MAKE', 'MODEL', 'VEHICLE CLASS', 'ENGINE SIZE', 'CYLINDERS',\n",
       "       'TRANSMISSION', 'FUEL', 'FUEL CONSUMPTION', 'COEMISSIONS '],\n",
       "      dtype='object')"
      ]
     },
     "execution_count": 17,
     "metadata": {},
     "output_type": "execute_result"
    }
   ],
   "source": [
    "data.columns"
   ]
  },
  {
   "cell_type": "code",
   "execution_count": 19,
   "id": "0abaadfe",
   "metadata": {},
   "outputs": [],
   "source": [
    "data.drop(columns=['Year', 'COEMISSIONS '], inplace =True)"
   ]
  },
  {
   "cell_type": "code",
   "execution_count": 20,
   "id": "53f3912d",
   "metadata": {},
   "outputs": [
    {
     "data": {
      "text/plain": [
       "array([1.6, 3.2, 3.5, 1.8, 3. , 2.8, 2.7, 4.2, 2.5, 4.4, 5.4, 4.9, 3.1,\n",
       "       3.8, 4.6, 5.7, 4.3, 4.8, 5.3, 6. , 2.2, 2.4, 5. , 3.4, 1. , 1.3,\n",
       "       2. , 1.5, 3.3, 3.9, 4.7, 5.9, 5.2, 8. , 3.6, 5.5, 4. , 2.3, 1.9,\n",
       "       2.9])"
      ]
     },
     "execution_count": 20,
     "metadata": {},
     "output_type": "execute_result"
    }
   ],
   "source": [
    "data['ENGINE SIZE'].unique()"
   ]
  },
  {
   "cell_type": "code",
   "execution_count": 24,
   "id": "08796893",
   "metadata": {},
   "outputs": [
    {
     "data": {
      "image/png": "[encoded data removed]",
      "text/plain": [
       "<Figure size 640x480 with 1 Axes>"
      ]
     },
     "metadata": {},
     "output_type": "display_data"
    }
   ],
   "source": [
    "plt.hist(data['ENGINE SIZE'])\n",
    "plt.xlabel('Engine size')\n",
    "plt.ylabel('Frequency')\n",
    "plt.title('Engine Size Histogram')\n",
    "plt.show()"
   ]
  },
  {
   "cell_type": "code",
   "execution_count": 25,
   "id": "1ce9bece",
   "metadata": {},
   "outputs": [
    {
     "data": {
      "text/plain": [
       "count    639.000000\n",
       "mean       3.265728\n",
       "std        1.231012\n",
       "min        1.000000\n",
       "25%        2.200000\n",
       "50%        3.000000\n",
       "75%        4.300000\n",
       "max        8.000000\n",
       "Name: ENGINE SIZE, dtype: float64"
      ]
     },
     "execution_count": 25,
     "metadata": {},
     "output_type": "execute_result"
    }
   ],
   "source": [
    "data['ENGINE SIZE'].describe()"
   ]
  },
  {
   "cell_type": "code",
   "execution_count": 29,
   "id": "62ba9f1d",
   "metadata": {},
   "outputs": [
    {
     "data": {
      "text/plain": [
       "ENGINE SIZE         0.858170\n",
       "CYLINDERS           0.825784\n",
       "FUEL CONSUMPTION    1.000000\n",
       "Name: FUEL CONSUMPTION, dtype: float64"
      ]
     },
     "execution_count": 29,
     "metadata": {},
     "output_type": "execute_result"
    }
   ],
   "source": [
    "data[['ENGINE SIZE','CYLINDERS','FUEL CONSUMPTION']].corr()['FUEL CONSUMPTION']"
   ]
  },
  {
   "cell_type": "code",
   "execution_count": 30,
   "id": "a9f31667",
   "metadata": {},
   "outputs": [
    {
     "data": {
      "text/plain": [
       "MAKE                0\n",
       "MODEL               0\n",
       "VEHICLE CLASS       0\n",
       "ENGINE SIZE         0\n",
       "CYLINDERS           0\n",
       "TRANSMISSION        0\n",
       "FUEL                0\n",
       "FUEL CONSUMPTION    0\n",
       "dtype: int64"
      ]
     },
     "execution_count": 30,
     "metadata": {},
     "output_type": "execute_result"
    }
   ],
   "source": [
    "data.isna().sum()"
   ]
  },
  {
   "cell_type": "code",
   "execution_count": 32,
   "id": "d29465de",
   "metadata": {},
   "outputs": [
    {
     "data": {
      "text/plain": [
       "1"
      ]
     },
     "execution_count": 32,
     "metadata": {},
     "output_type": "execute_result"
    }
   ],
   "source": [
    "data.duplicated().sum()"
   ]
  },
  {
   "cell_type": "code",
   "execution_count": 34,
   "id": "917166c5",
   "metadata": {},
   "outputs": [],
   "source": [
    "data.drop_duplicates(inplace=True)"
   ]
  },
  {
   "cell_type": "code",
   "execution_count": 35,
   "id": "4e4b1bf2",
   "metadata": {},
   "outputs": [
    {
     "name": "stdout",
     "output_type": "stream",
     "text": [
      "Make\n",
      "Model\n",
      "Vehicle class\n",
      "Engine size\n",
      "Cylinders\n",
      "Transmission\n",
      "Fuel\n",
      "Fuel consumption\n"
     ]
    }
   ],
   "source": [
    "for i in data.columns:\n",
    "    print(i.capitalize())"
   ]
  },
  {
   "cell_type": "code",
   "execution_count": 36,
   "id": "8e406fa7",
   "metadata": {},
   "outputs": [],
   "source": [
    "new_columns_names=[]\n",
    "for i in data.columns:\n",
    "    new_columns_names.append(i.capitalize())"
   ]
  },
  {
   "cell_type": "code",
   "execution_count": 37,
   "id": "15b4f423",
   "metadata": {},
   "outputs": [
    {
     "data": {
      "text/plain": [
       "['Make',\n",
       " 'Model',\n",
       " 'Vehicle class',\n",
       " 'Engine size',\n",
       " 'Cylinders',\n",
       " 'Transmission',\n",
       " 'Fuel',\n",
       " 'Fuel consumption']"
      ]
     },
     "execution_count": 37,
     "metadata": {},
     "output_type": "execute_result"
    }
   ],
   "source": [
    "new_columns_names"
   ]
  },
  {
   "cell_type": "code",
   "execution_count": 38,
   "id": "f797955e",
   "metadata": {},
   "outputs": [],
   "source": [
    "data.columns=new_columns_names"
   ]
  },
  {
   "cell_type": "code",
   "execution_count": 40,
   "id": "adb05079",
   "metadata": {},
   "outputs": [
    {
     "data": {
      "text/html": [
       "<div>\n",
       "<style scoped>\n",
       "    .dataframe tbody tr th:only-of-type {\n",
       "        vertical-align: middle;\n",
       "    }\n",
       "\n",
       "    .dataframe tbody tr th {\n",
       "        vertical-align: top;\n",
       "    }\n",
       "\n",
       "    .dataframe thead th {\n",
       "        text-align: right;\n",
       "    }\n",
       "</style>\n",
       "<table border=\"1\" class=\"dataframe\">\n",
       "  <thead>\n",
       "    <tr style=\"text-align: right;\">\n",
       "      <th></th>\n",
       "      <th>Make</th>\n",
       "      <th>Model</th>\n",
       "      <th>Vehicle class</th>\n",
       "      <th>Engine size</th>\n",
       "      <th>Cylinders</th>\n",
       "      <th>Transmission</th>\n",
       "      <th>Fuel</th>\n",
       "      <th>Fuel consumption</th>\n",
       "    </tr>\n",
       "  </thead>\n",
       "  <tbody>\n",
       "    <tr>\n",
       "      <th>0</th>\n",
       "      <td>ACURA</td>\n",
       "      <td>1.6EL</td>\n",
       "      <td>COMPACT</td>\n",
       "      <td>1.6</td>\n",
       "      <td>4</td>\n",
       "      <td>A4</td>\n",
       "      <td>X</td>\n",
       "      <td>10.5</td>\n",
       "    </tr>\n",
       "    <tr>\n",
       "      <th>1</th>\n",
       "      <td>ACURA</td>\n",
       "      <td>1.6EL</td>\n",
       "      <td>COMPACT</td>\n",
       "      <td>1.6</td>\n",
       "      <td>4</td>\n",
       "      <td>M5</td>\n",
       "      <td>X</td>\n",
       "      <td>9.8</td>\n",
       "    </tr>\n",
       "    <tr>\n",
       "      <th>2</th>\n",
       "      <td>ACURA</td>\n",
       "      <td>3.2TL</td>\n",
       "      <td>MID-SIZE</td>\n",
       "      <td>3.2</td>\n",
       "      <td>6</td>\n",
       "      <td>AS5</td>\n",
       "      <td>Z</td>\n",
       "      <td>13.7</td>\n",
       "    </tr>\n",
       "    <tr>\n",
       "      <th>3</th>\n",
       "      <td>ACURA</td>\n",
       "      <td>3.5RL</td>\n",
       "      <td>MID-SIZE</td>\n",
       "      <td>3.5</td>\n",
       "      <td>6</td>\n",
       "      <td>A4</td>\n",
       "      <td>Z</td>\n",
       "      <td>15.0</td>\n",
       "    </tr>\n",
       "    <tr>\n",
       "      <th>4</th>\n",
       "      <td>ACURA</td>\n",
       "      <td>INTEGRA</td>\n",
       "      <td>SUBCOMPACT</td>\n",
       "      <td>1.8</td>\n",
       "      <td>4</td>\n",
       "      <td>A4</td>\n",
       "      <td>X</td>\n",
       "      <td>11.4</td>\n",
       "    </tr>\n",
       "    <tr>\n",
       "      <th>...</th>\n",
       "      <td>...</td>\n",
       "      <td>...</td>\n",
       "      <td>...</td>\n",
       "      <td>...</td>\n",
       "      <td>...</td>\n",
       "      <td>...</td>\n",
       "      <td>...</td>\n",
       "      <td>...</td>\n",
       "    </tr>\n",
       "    <tr>\n",
       "      <th>634</th>\n",
       "      <td>VOLVO</td>\n",
       "      <td>V70 AWD TURBO</td>\n",
       "      <td>STATION WAGON - MID-SIZE</td>\n",
       "      <td>2.4</td>\n",
       "      <td>5</td>\n",
       "      <td>A4</td>\n",
       "      <td>Z</td>\n",
       "      <td>14.4</td>\n",
       "    </tr>\n",
       "    <tr>\n",
       "      <th>635</th>\n",
       "      <td>VOLVO</td>\n",
       "      <td>V70 GLT TURBO</td>\n",
       "      <td>STATION WAGON - MID-SIZE</td>\n",
       "      <td>2.4</td>\n",
       "      <td>5</td>\n",
       "      <td>A4</td>\n",
       "      <td>Z</td>\n",
       "      <td>13.6</td>\n",
       "    </tr>\n",
       "    <tr>\n",
       "      <th>636</th>\n",
       "      <td>VOLVO</td>\n",
       "      <td>V70 T5 TURBO</td>\n",
       "      <td>STATION WAGON - MID-SIZE</td>\n",
       "      <td>2.3</td>\n",
       "      <td>5</td>\n",
       "      <td>A4</td>\n",
       "      <td>Z</td>\n",
       "      <td>13.9</td>\n",
       "    </tr>\n",
       "    <tr>\n",
       "      <th>637</th>\n",
       "      <td>VOLVO</td>\n",
       "      <td>V70 T5 TURBO</td>\n",
       "      <td>STATION WAGON - MID-SIZE</td>\n",
       "      <td>2.3</td>\n",
       "      <td>5</td>\n",
       "      <td>M5</td>\n",
       "      <td>Z</td>\n",
       "      <td>13.0</td>\n",
       "    </tr>\n",
       "    <tr>\n",
       "      <th>638</th>\n",
       "      <td>VOLVO</td>\n",
       "      <td>V70R AWD TURBO</td>\n",
       "      <td>STATION WAGON - MID-SIZE</td>\n",
       "      <td>2.4</td>\n",
       "      <td>5</td>\n",
       "      <td>A5</td>\n",
       "      <td>Z</td>\n",
       "      <td>14.7</td>\n",
       "    </tr>\n",
       "  </tbody>\n",
       "</table>\n",
       "<p>638 rows × 8 columns</p>\n",
       "</div>"
      ],
      "text/plain": [
       "      Make           Model             Vehicle class  Engine size  Cylinders  \\\n",
       "0    ACURA           1.6EL                   COMPACT          1.6          4   \n",
       "1    ACURA           1.6EL                   COMPACT          1.6          4   \n",
       "2    ACURA           3.2TL                  MID-SIZE          3.2          6   \n",
       "3    ACURA           3.5RL                  MID-SIZE          3.5          6   \n",
       "4    ACURA         INTEGRA                SUBCOMPACT          1.8          4   \n",
       "..     ...             ...                       ...          ...        ...   \n",
       "634  VOLVO   V70 AWD TURBO  STATION WAGON - MID-SIZE          2.4          5   \n",
       "635  VOLVO   V70 GLT TURBO  STATION WAGON - MID-SIZE          2.4          5   \n",
       "636  VOLVO    V70 T5 TURBO  STATION WAGON - MID-SIZE          2.3          5   \n",
       "637  VOLVO    V70 T5 TURBO  STATION WAGON - MID-SIZE          2.3          5   \n",
       "638  VOLVO  V70R AWD TURBO  STATION WAGON - MID-SIZE          2.4          5   \n",
       "\n",
       "    Transmission Fuel  Fuel consumption  \n",
       "0             A4    X              10.5  \n",
       "1             M5    X               9.8  \n",
       "2            AS5    Z              13.7  \n",
       "3             A4    Z              15.0  \n",
       "4             A4    X              11.4  \n",
       "..           ...  ...               ...  \n",
       "634           A4    Z              14.4  \n",
       "635           A4    Z              13.6  \n",
       "636           A4    Z              13.9  \n",
       "637           M5    Z              13.0  \n",
       "638           A5    Z              14.7  \n",
       "\n",
       "[638 rows x 8 columns]"
      ]
     },
     "execution_count": 40,
     "metadata": {},
     "output_type": "execute_result"
    }
   ],
   "source": [
    "data"
   ]
  },
  {
   "cell_type": "code",
   "execution_count": 41,
   "id": "3bd8da3c",
   "metadata": {},
   "outputs": [
    {
     "data": {
      "text/plain": [
       "Index(['Make', 'Model', 'Vehicle class', 'Engine size', 'Cylinders',\n",
       "       'Transmission', 'Fuel', 'Fuel consumption'],\n",
       "      dtype='object')"
      ]
     },
     "execution_count": 41,
     "metadata": {},
     "output_type": "execute_result"
    }
   ],
   "source": [
    "from sklearn.model_selection import train_test_split\n",
    "data.columns"
   ]
  },
  {
   "cell_type": "code",
   "execution_count": 44,
   "id": "a1aaa833",
   "metadata": {},
   "outputs": [],
   "source": [
    "X=data[['Engine size' , 'Cylinders']]\n",
    "y=data['Fuel consumption']"
   ]
  },
  {
   "cell_type": "code",
   "execution_count": 45,
   "id": "bc57ec19",
   "metadata": {},
   "outputs": [
    {
     "data": {
      "text/html": [
       "<div>\n",
       "<style scoped>\n",
       "    .dataframe tbody tr th:only-of-type {\n",
       "        vertical-align: middle;\n",
       "    }\n",
       "\n",
       "    .dataframe tbody tr th {\n",
       "        vertical-align: top;\n",
       "    }\n",
       "\n",
       "    .dataframe thead th {\n",
       "        text-align: right;\n",
       "    }\n",
       "</style>\n",
       "<table border=\"1\" class=\"dataframe\">\n",
       "  <thead>\n",
       "    <tr style=\"text-align: right;\">\n",
       "      <th></th>\n",
       "      <th>Engine size</th>\n",
       "      <th>Cylinders</th>\n",
       "    </tr>\n",
       "  </thead>\n",
       "  <tbody>\n",
       "    <tr>\n",
       "      <th>0</th>\n",
       "      <td>1.6</td>\n",
       "      <td>4</td>\n",
       "    </tr>\n",
       "    <tr>\n",
       "      <th>1</th>\n",
       "      <td>1.6</td>\n",
       "      <td>4</td>\n",
       "    </tr>\n",
       "    <tr>\n",
       "      <th>2</th>\n",
       "      <td>3.2</td>\n",
       "      <td>6</td>\n",
       "    </tr>\n",
       "    <tr>\n",
       "      <th>3</th>\n",
       "      <td>3.5</td>\n",
       "      <td>6</td>\n",
       "    </tr>\n",
       "    <tr>\n",
       "      <th>4</th>\n",
       "      <td>1.8</td>\n",
       "      <td>4</td>\n",
       "    </tr>\n",
       "    <tr>\n",
       "      <th>...</th>\n",
       "      <td>...</td>\n",
       "      <td>...</td>\n",
       "    </tr>\n",
       "    <tr>\n",
       "      <th>634</th>\n",
       "      <td>2.4</td>\n",
       "      <td>5</td>\n",
       "    </tr>\n",
       "    <tr>\n",
       "      <th>635</th>\n",
       "      <td>2.4</td>\n",
       "      <td>5</td>\n",
       "    </tr>\n",
       "    <tr>\n",
       "      <th>636</th>\n",
       "      <td>2.3</td>\n",
       "      <td>5</td>\n",
       "    </tr>\n",
       "    <tr>\n",
       "      <th>637</th>\n",
       "      <td>2.3</td>\n",
       "      <td>5</td>\n",
       "    </tr>\n",
       "    <tr>\n",
       "      <th>638</th>\n",
       "      <td>2.4</td>\n",
       "      <td>5</td>\n",
       "    </tr>\n",
       "  </tbody>\n",
       "</table>\n",
       "<p>638 rows × 2 columns</p>\n",
       "</div>"
      ],
      "text/plain": [
       "     Engine size  Cylinders\n",
       "0            1.6          4\n",
       "1            1.6          4\n",
       "2            3.2          6\n",
       "3            3.5          6\n",
       "4            1.8          4\n",
       "..           ...        ...\n",
       "634          2.4          5\n",
       "635          2.4          5\n",
       "636          2.3          5\n",
       "637          2.3          5\n",
       "638          2.4          5\n",
       "\n",
       "[638 rows x 2 columns]"
      ]
     },
     "execution_count": 45,
     "metadata": {},
     "output_type": "execute_result"
    }
   ],
   "source": [
    "X"
   ]
  },
  {
   "cell_type": "code",
   "execution_count": 46,
   "id": "1ae84ca3",
   "metadata": {},
   "outputs": [
    {
     "data": {
      "text/plain": [
       "0      10.5\n",
       "1       9.8\n",
       "2      13.7\n",
       "3      15.0\n",
       "4      11.4\n",
       "       ... \n",
       "634    14.4\n",
       "635    13.6\n",
       "636    13.9\n",
       "637    13.0\n",
       "638    14.7\n",
       "Name: Fuel consumption, Length: 638, dtype: float64"
      ]
     },
     "execution_count": 46,
     "metadata": {},
     "output_type": "execute_result"
    }
   ],
   "source": [
    "y"
   ]
  },
  {
   "cell_type": "code",
   "execution_count": 47,
   "id": "474064e2",
   "metadata": {},
   "outputs": [],
   "source": [
    "X_train , X_test , y_train , y_test = train_test_split(X,y,test_size=0.2)"
   ]
  },
  {
   "cell_type": "code",
   "execution_count": 49,
   "id": "ec093467",
   "metadata": {},
   "outputs": [],
   "source": [
    "from sklearn.linear_model import LinearRegression\n",
    "lr=LinearRegression()"
   ]
  },
  {
   "cell_type": "code",
   "execution_count": 51,
   "id": "3f76b4e3",
   "metadata": {},
   "outputs": [
    {
     "data": {
      "text/html": [
       "<style>#sk-container-id-2 {color: black;}#sk-container-id-2 pre{padding: 0;}#sk-container-id-2 div.sk-toggleable {background-color: white;}#sk-container-id-2 label.sk-toggleable__label {cursor: pointer;display: block;width: 100%;margin-bottom: 0;padding: 0.3em;box-sizing: border-box;text-align: center;}#sk-container-id-2 label.sk-toggleable__label-arrow:before {content: \"▸\";float: left;margin-right: 0.25em;color: #696969;}#sk-container-id-2 label.sk-toggleable__label-arrow:hover:before {color: black;}#sk-container-id-2 div.sk-estimator:hover label.sk-toggleable__label-arrow:before {color: black;}#sk-container-id-2 div.sk-toggleable__content {max-height: 0;max-width: 0;overflow: hidden;text-align: left;background-color: #f0f8ff;}#sk-container-id-2 div.sk-toggleable__content pre {margin: 0.2em;color: black;border-radius: 0.25em;background-color: #f0f8ff;}#sk-container-id-2 input.sk-toggleable__control:checked~div.sk-toggleable__content {max-height: 200px;max-width: 100%;overflow: auto;}#sk-container-id-2 input.sk-toggleable__control:checked~label.sk-toggleable__label-arrow:before {content: \"▾\";}#sk-container-id-2 div.sk-estimator input.sk-toggleable__control:checked~label.sk-toggleable__label {background-color: #d4ebff;}#sk-container-id-2 div.sk-label input.sk-toggleable__control:checked~label.sk-toggleable__label {background-color: #d4ebff;}#sk-container-id-2 input.sk-hidden--visually {border: 0;clip: rect(1px 1px 1px 1px);clip: rect(1px, 1px, 1px, 1px);height: 1px;margin: -1px;overflow: hidden;padding: 0;position: absolute;width: 1px;}#sk-container-id-2 div.sk-estimator {font-family: monospace;background-color: #f0f8ff;border: 1px dotted black;border-radius: 0.25em;box-sizing: border-box;margin-bottom: 0.5em;}#sk-container-id-2 div.sk-estimator:hover {background-color: #d4ebff;}#sk-container-id-2 div.sk-parallel-item::after {content: \"\";width: 100%;border-bottom: 1px solid gray;flex-grow: 1;}#sk-container-id-2 div.sk-label:hover label.sk-toggleable__label {background-color: #d4ebff;}#sk-container-id-2 div.sk-serial::before {content: \"\";position: absolute;border-left: 1px solid gray;box-sizing: border-box;top: 0;bottom: 0;left: 50%;z-index: 0;}#sk-container-id-2 div.sk-serial {display: flex;flex-direction: column;align-items: center;background-color: white;padding-right: 0.2em;padding-left: 0.2em;position: relative;}#sk-container-id-2 div.sk-item {position: relative;z-index: 1;}#sk-container-id-2 div.sk-parallel {display: flex;align-items: stretch;justify-content: center;background-color: white;position: relative;}#sk-container-id-2 div.sk-item::before, #sk-container-id-2 div.sk-parallel-item::before {content: \"\";position: absolute;border-left: 1px solid gray;box-sizing: border-box;top: 0;bottom: 0;left: 50%;z-index: -1;}#sk-container-id-2 div.sk-parallel-item {display: flex;flex-direction: column;z-index: 1;position: relative;background-color: white;}#sk-container-id-2 div.sk-parallel-item:first-child::after {align-self: flex-end;width: 50%;}#sk-container-id-2 div.sk-parallel-item:last-child::after {align-self: flex-start;width: 50%;}#sk-container-id-2 div.sk-parallel-item:only-child::after {width: 0;}#sk-container-id-2 div.sk-dashed-wrapped {border: 1px dashed gray;margin: 0 0.4em 0.5em 0.4em;box-sizing: border-box;padding-bottom: 0.4em;background-color: white;}#sk-container-id-2 div.sk-label label {font-family: monospace;font-weight: bold;display: inline-block;line-height: 1.2em;}#sk-container-id-2 div.sk-label-container {text-align: center;}#sk-container-id-2 div.sk-container {/* jupyter's `normalize.less` sets `[hidden] { display: none; }` but bootstrap.min.css set `[hidden] { display: none !important; }` so we also need the `!important` here to be able to override the default hidden behavior on the sphinx rendered scikit-learn.org. See: https://github.com/scikit-learn/scikit-learn/issues/21755 */display: inline-block !important;position: relative;}#sk-container-id-2 div.sk-text-repr-fallback {display: none;}</style><div id=\"sk-container-id-2\" class=\"sk-top-container\"><div class=\"sk-text-repr-fallback\"><pre>LinearRegression()</pre><b>In a Jupyter environment, please rerun this cell to show the HTML representation or trust the notebook. <br />On GitHub, the HTML representation is unable to render, please try loading this page with nbviewer.org.</b></div><div class=\"sk-container\" hidden><div class=\"sk-item\"><div class=\"sk-estimator sk-toggleable\"><input class=\"sk-toggleable__control sk-hidden--visually\" id=\"sk-estimator-id-2\" type=\"checkbox\" checked><label for=\"sk-estimator-id-2\" class=\"sk-toggleable__label sk-toggleable__label-arrow\">LinearRegression</label><div class=\"sk-toggleable__content\"><pre>LinearRegression()</pre></div></div></div></div></div>"
      ],
      "text/plain": [
       "LinearRegression()"
      ]
     },
     "execution_count": 51,
     "metadata": {},
     "output_type": "execute_result"
    }
   ],
   "source": [
    "lr.fit(X_train, y_train)"
   ]
  },
  {
   "cell_type": "code",
   "execution_count": 52,
   "id": "0271606e",
   "metadata": {},
   "outputs": [
    {
     "data": {
      "text/plain": [
       "array([1.62807794, 0.58826583])"
      ]
     },
     "execution_count": 52,
     "metadata": {},
     "output_type": "execute_result"
    }
   ],
   "source": [
    "lr.coef_"
   ]
  },
  {
   "cell_type": "code",
   "execution_count": 53,
   "id": "cbd9f095",
   "metadata": {},
   "outputs": [],
   "source": [
    "#1.62807794 X1 + 0.58826583 X2 =Y\n"
   ]
  },
  {
   "cell_type": "code",
   "execution_count": 54,
   "id": "1df09b1c",
   "metadata": {},
   "outputs": [],
   "source": [
    "#1.62807794 ENGINE SIZE + 0.58826583 Cylinder = Fuel Consumption\n"
   ]
  },
  {
   "cell_type": "code",
   "execution_count": 56,
   "id": "4549bfef",
   "metadata": {},
   "outputs": [],
   "source": [
    "predictions=lr.predict(X_test)"
   ]
  },
  {
   "cell_type": "code",
   "execution_count": 57,
   "id": "2d2597b1",
   "metadata": {},
   "outputs": [
    {
     "data": {
      "text/plain": [
       "array([15.05582648, 18.83728285, 14.40459531, 11.92560129, 18.51166727,\n",
       "       19.32570624, 15.05582648, 15.86986545, 13.59055634, 18.18605168,\n",
       "       13.91617192, 17.86043609, 11.5999857 , 12.08840908, 20.302553  ,\n",
       "       10.78594673, 19.32570624, 18.51166727, 12.08840908, 12.41402467,\n",
       "       11.27437011, 11.5999857 , 18.83728285, 14.5674031 , 12.41402467,\n",
       "       16.52109663, 16.55797374, 12.25121687, 15.05582648, 11.5999857 ,\n",
       "       11.27437011, 18.83728285, 17.20920492, 18.51166727, 18.83728285,\n",
       "       11.27437011, 16.52109663, 15.70705766, 16.35828883, 14.40459531,\n",
       "       13.59055634, 20.46536079, 11.5999857 , 14.07897972, 14.40459531,\n",
       "       15.21863428, 12.41402467, 18.51166727, 11.4371779 , 16.35828883,\n",
       "       16.03267325, 15.05582648, 14.73021089, 11.27437011, 11.27437011,\n",
       "       15.21863428, 14.73021089, 11.5999857 , 16.03267325, 11.4371779 ,\n",
       "       14.07897972, 17.20920492, 11.5999857 , 10.94875452, 15.70705766,\n",
       "       17.6976283 , 14.07897972, 16.35828883, 13.59055634, 12.41402467,\n",
       "       11.5999857 , 16.52109663, 15.70705766, 14.73021089, 24.89804834,\n",
       "       11.92560129, 16.52109663, 15.70705766, 18.18605168, 19.32570624,\n",
       "       11.4371779 , 14.40459531, 18.18605168, 11.92560129, 18.34885947,\n",
       "       12.73964025, 12.41402467, 10.78594673, 10.46033114, 11.4371779 ,\n",
       "       13.91617192, 14.07897972, 19.16289844, 14.07897972, 16.52109663,\n",
       "       10.94875452, 15.05582648, 17.6976283 , 13.59055634, 14.73021089,\n",
       "       14.89301869, 11.27437011, 11.5999857 , 11.92560129, 16.52109663,\n",
       "       17.6976283 , 12.67667491, 14.89301869, 12.83948271, 14.5674031 ,\n",
       "       20.302553  ,  9.38364192, 11.5999857 , 11.5999857 , 11.4371779 ,\n",
       "       15.86986545, 11.5999857 , 16.52109663, 14.07897972, 18.34885947,\n",
       "       11.27437011, 14.73021089, 14.89301869, 11.5999857 , 18.18605168,\n",
       "       15.86986545, 15.70705766, 19.97693741])"
      ]
     },
     "execution_count": 57,
     "metadata": {},
     "output_type": "execute_result"
    }
   ],
   "source": [
    "predictions"
   ]
  },
  {
   "cell_type": "code",
   "execution_count": 58,
   "id": "563562c8",
   "metadata": {},
   "outputs": [],
   "source": [
    "from sklearn.metrics import mean_absolute_error"
   ]
  },
  {
   "cell_type": "code",
   "execution_count": 60,
   "id": "89111ca8",
   "metadata": {},
   "outputs": [
    {
     "data": {
      "text/plain": [
       "1.2116220757576186"
      ]
     },
     "execution_count": 60,
     "metadata": {},
     "output_type": "execute_result"
    }
   ],
   "source": [
    "mean_absolute_error(y_test,predictions)"
   ]
  },
  {
   "cell_type": "code",
   "execution_count": 63,
   "id": "03f01796",
   "metadata": {},
   "outputs": [
    {
     "data": {
      "text/plain": [
       "count    638.000000\n",
       "mean      14.705956\n",
       "std        3.303962\n",
       "min        4.900000\n",
       "25%       12.500000\n",
       "50%       14.400000\n",
       "75%       16.600000\n",
       "max       30.200000\n",
       "Name: Fuel consumption, dtype: float64"
      ]
     },
     "execution_count": 63,
     "metadata": {},
     "output_type": "execute_result"
    }
   ],
   "source": [
    "data['Fuel consumption'].describe()"
   ]
  },
  {
   "cell_type": "code",
   "execution_count": 66,
   "id": "cfc93a0d",
   "metadata": {},
   "outputs": [
    {
     "data": {
      "text/plain": [
       "['LinearModel.pkl']"
      ]
     },
     "execution_count": 66,
     "metadata": {},
     "output_type": "execute_result"
    }
   ],
   "source": [
    "import joblib\n",
    "joblib.dump(lr,'LinearModel.pkl')"
   ]
  },
  {
   "cell_type": "code",
   "execution_count": null,
   "id": "4a01542f",
   "metadata": {},
   "outputs": [],
   "source": []
  }
 ],
 "metadata": {
  "kernelspec": {
   "display_name": "Python 3 (ipykernel)",
   "language": "python",
   "name": "python3"
  },
  "language_info": {
   "codemirror_mode": {
    "name": "ipython",
    "version": 3
   },
   "file_extension": ".py",
   "mimetype": "text/x-python",
   "name": "python",
   "nbconvert_exporter": "python",
   "pygments_lexer": "ipython3",
   "version": "3.11.4"
  }
 },
 "nbformat": 4,
 "nbformat_minor": 5
}
